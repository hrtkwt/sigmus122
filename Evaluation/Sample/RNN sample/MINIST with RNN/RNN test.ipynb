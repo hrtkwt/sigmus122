{
 "cells": [
  {
   "cell_type": "code",
   "execution_count": 1,
   "metadata": {},
   "outputs": [
    {
     "ename": "ModuleNotFoundError",
     "evalue": "No module named 'tensorflow'",
     "output_type": "error",
     "traceback": [
      "\u001b[0;31m---------------------------------------------------------------------------\u001b[0m",
      "\u001b[0;31mModuleNotFoundError\u001b[0m                       Traceback (most recent call last)",
      "\u001b[0;32m<ipython-input-1-b28d3edaed40>\u001b[0m in \u001b[0;36m<module>\u001b[0;34m\u001b[0m\n\u001b[0;32m----> 1\u001b[0;31m \u001b[0;32mimport\u001b[0m \u001b[0mtensorflow\u001b[0m \u001b[0;32mas\u001b[0m \u001b[0mtf\u001b[0m\u001b[0;34m\u001b[0m\u001b[0;34m\u001b[0m\u001b[0m\n\u001b[0m\u001b[1;32m      2\u001b[0m \u001b[0;32mfrom\u001b[0m \u001b[0mtensorflow\u001b[0m\u001b[0;34m.\u001b[0m\u001b[0mcontrib\u001b[0m \u001b[0;32mimport\u001b[0m \u001b[0mrnn\u001b[0m\u001b[0;34m\u001b[0m\u001b[0;34m\u001b[0m\u001b[0m\n\u001b[1;32m      3\u001b[0m \u001b[0;34m\u001b[0m\u001b[0m\n\u001b[1;32m      4\u001b[0m \u001b[0;32mfrom\u001b[0m \u001b[0mtensorflow\u001b[0m\u001b[0;34m.\u001b[0m\u001b[0mexamples\u001b[0m\u001b[0;34m.\u001b[0m\u001b[0mtutorials\u001b[0m\u001b[0;34m.\u001b[0m\u001b[0mmnist\u001b[0m \u001b[0;32mimport\u001b[0m \u001b[0minput_data\u001b[0m\u001b[0;34m\u001b[0m\u001b[0;34m\u001b[0m\u001b[0m\n\u001b[1;32m      5\u001b[0m \u001b[0mmnist\u001b[0m \u001b[0;34m=\u001b[0m \u001b[0minput_data\u001b[0m\u001b[0;34m.\u001b[0m\u001b[0mread_data_sets\u001b[0m\u001b[0;34m(\u001b[0m\u001b[0;34m\"/tmp/data/\"\u001b[0m\u001b[0;34m,\u001b[0m \u001b[0mone_hot\u001b[0m\u001b[0;34m=\u001b[0m\u001b[0;32mTrue\u001b[0m\u001b[0;34m)\u001b[0m\u001b[0;34m\u001b[0m\u001b[0;34m\u001b[0m\u001b[0m\n",
      "\u001b[0;31mModuleNotFoundError\u001b[0m: No module named 'tensorflow'"
     ]
    }
   ],
   "source": [
    "import tensorflow as tf\n",
    "from tensorflow.contrib import rnn\n",
    "\n",
    "from tensorflow.examples.tutorials.mnist import input_data\n",
    "mnist = input_data.read_data_sets(\"/tmp/data/\", one_hot=True)"
   ]
  },
  {
   "cell_type": "code",
   "execution_count": 2,
   "metadata": {},
   "outputs": [],
   "source": [
    "x = tf.placeholder(\"float\", [None, 28, 28])\n",
    "y = tf.placeholder(\"float\", [None, 10])"
   ]
  },
  {
   "cell_type": "code",
   "execution_count": 3,
   "metadata": {},
   "outputs": [
    {
     "name": "stdout",
     "output_type": "stream",
     "text": [
      "WARNING:tensorflow:From <ipython-input-3-27c91150ce28>:5: BasicLSTMCell.__init__ (from tensorflow.python.ops.rnn_cell_impl) is deprecated and will be removed in a future version.\n",
      "Instructions for updating:\n",
      "This class is deprecated, please use tf.nn.rnn_cell.LSTMCell, which supports all the feature this cell currently has. Please replace the existing code with tf.nn.rnn_cell.LSTMCell(name='basic_lstm_cell').\n"
     ]
    }
   ],
   "source": [
    "def RNN(x):\n",
    "    x = tf.unstack(x, 28, 1)\n",
    "\n",
    "    # LSTMセルを定義する\n",
    "    lstm_cell = rnn.BasicLSTMCell(128, forget_bias=1.0)\n",
    "\n",
    "    # モデルの定義。各タイムステップの出力値と状態が返される\n",
    "    outputs, states = rnn.static_rnn(lstm_cell, x, dtype=tf.float32)\n",
    "\n",
    "    # 変数定義\n",
    "    weight = tf.Variable(tf.random_normal([128, 10]))\n",
    "    bias = tf.Variable(tf.random_normal([10]))\n",
    "\n",
    "    return tf.matmul(outputs[-1], weight) + bias\n",
    "\n",
    "preds = RNN(x)"
   ]
  },
  {
   "cell_type": "code",
   "execution_count": 4,
   "metadata": {},
   "outputs": [
    {
     "name": "stdout",
     "output_type": "stream",
     "text": [
      "WARNING:tensorflow:From <ipython-input-4-bc45fa2d44b4>:1: softmax_cross_entropy_with_logits (from tensorflow.python.ops.nn_ops) is deprecated and will be removed in a future version.\n",
      "Instructions for updating:\n",
      "\n",
      "Future major versions of TensorFlow will allow gradients to flow\n",
      "into the labels input on backprop by default.\n",
      "\n",
      "See `tf.nn.softmax_cross_entropy_with_logits_v2`.\n",
      "\n"
     ]
    }
   ],
   "source": [
    "cost = tf.reduce_mean(tf.nn.softmax_cross_entropy_with_logits(logits=preds, labels=y))\n",
    "optimizer = tf.train.AdamOptimizer(learning_rate=0.001).minimize(cost)\n",
    "\n",
    "# 評価用\n",
    "correct_pred = tf.equal(tf.argmax(preds, 1), tf.argmax(y, 1))\n",
    "accuracy = tf.reduce_mean(tf.cast(correct_pred, tf.float32))"
   ]
  },
  {
   "cell_type": "code",
   "execution_count": 5,
   "metadata": {},
   "outputs": [
    {
     "name": "stdout",
     "output_type": "stream",
     "text": [
      "step: 10 / loss: 1.975351 / acc: 0.28906\n",
      "step: 20 / loss: 1.772740 / acc: 0.39844\n",
      "step: 30 / loss: 1.557635 / acc: 0.50000\n",
      "step: 40 / loss: 1.126119 / acc: 0.60938\n",
      "step: 50 / loss: 1.171542 / acc: 0.60156\n",
      "step: 60 / loss: 0.806178 / acc: 0.71094\n",
      "step: 70 / loss: 0.777341 / acc: 0.74219\n",
      "step: 80 / loss: 0.483344 / acc: 0.82812\n",
      "step: 90 / loss: 0.492552 / acc: 0.83594\n",
      "step: 100 / loss: 0.776954 / acc: 0.74219\n",
      "step: 110 / loss: 0.429149 / acc: 0.84375\n",
      "step: 120 / loss: 0.451305 / acc: 0.85938\n",
      "step: 130 / loss: 0.387711 / acc: 0.87500\n",
      "step: 140 / loss: 0.429635 / acc: 0.87500\n",
      "step: 150 / loss: 0.288445 / acc: 0.87500\n",
      "step: 160 / loss: 0.319236 / acc: 0.89844\n",
      "step: 170 / loss: 0.355023 / acc: 0.92188\n",
      "step: 180 / loss: 0.345884 / acc: 0.88281\n",
      "step: 190 / loss: 0.249111 / acc: 0.92969\n",
      "step: 200 / loss: 0.273456 / acc: 0.90625\n",
      "step: 210 / loss: 0.349582 / acc: 0.89844\n",
      "step: 220 / loss: 0.235096 / acc: 0.91406\n",
      "step: 230 / loss: 0.324970 / acc: 0.89062\n",
      "step: 240 / loss: 0.410949 / acc: 0.87500\n",
      "step: 250 / loss: 0.251228 / acc: 0.92188\n",
      "step: 260 / loss: 0.225112 / acc: 0.91406\n",
      "step: 270 / loss: 0.149192 / acc: 0.94531\n",
      "step: 280 / loss: 0.200975 / acc: 0.93750\n",
      "step: 290 / loss: 0.189691 / acc: 0.93750\n",
      "step: 300 / loss: 0.185043 / acc: 0.95312\n",
      "step: 310 / loss: 0.163000 / acc: 0.94531\n",
      "step: 320 / loss: 0.270436 / acc: 0.94531\n",
      "step: 330 / loss: 0.194402 / acc: 0.94531\n",
      "step: 340 / loss: 0.118844 / acc: 0.96094\n",
      "step: 350 / loss: 0.313229 / acc: 0.91406\n",
      "step: 360 / loss: 0.193034 / acc: 0.90625\n",
      "step: 370 / loss: 0.242865 / acc: 0.91406\n",
      "step: 380 / loss: 0.145478 / acc: 0.96875\n",
      "step: 390 / loss: 0.177734 / acc: 0.94531\n",
      "step: 400 / loss: 0.141534 / acc: 0.96094\n",
      "step: 410 / loss: 0.152464 / acc: 0.95312\n",
      "step: 420 / loss: 0.206178 / acc: 0.92188\n",
      "step: 430 / loss: 0.296165 / acc: 0.91406\n",
      "step: 440 / loss: 0.077872 / acc: 0.97656\n",
      "step: 450 / loss: 0.072420 / acc: 0.97656\n",
      "step: 460 / loss: 0.157895 / acc: 0.96094\n",
      "step: 470 / loss: 0.094200 / acc: 0.96875\n",
      "step: 480 / loss: 0.215486 / acc: 0.96094\n",
      "step: 490 / loss: 0.123997 / acc: 0.96094\n",
      "step: 500 / loss: 0.083011 / acc: 0.96875\n",
      "step: 510 / loss: 0.339536 / acc: 0.87500\n",
      "step: 520 / loss: 0.201212 / acc: 0.92969\n",
      "step: 530 / loss: 0.148705 / acc: 0.92188\n",
      "step: 540 / loss: 0.118491 / acc: 0.97656\n",
      "step: 550 / loss: 0.101100 / acc: 0.95312\n",
      "step: 560 / loss: 0.164510 / acc: 0.95312\n",
      "step: 570 / loss: 0.076006 / acc: 0.97656\n",
      "step: 580 / loss: 0.134385 / acc: 0.94531\n",
      "step: 590 / loss: 0.116824 / acc: 0.96875\n",
      "step: 600 / loss: 0.081618 / acc: 0.96875\n",
      "step: 610 / loss: 0.071591 / acc: 0.96875\n",
      "step: 620 / loss: 0.130723 / acc: 0.96094\n",
      "step: 630 / loss: 0.163259 / acc: 0.96875\n",
      "step: 640 / loss: 0.067758 / acc: 0.97656\n",
      "step: 650 / loss: 0.078428 / acc: 0.98438\n",
      "step: 660 / loss: 0.075028 / acc: 0.96094\n",
      "step: 670 / loss: 0.161597 / acc: 0.95312\n",
      "step: 680 / loss: 0.051302 / acc: 0.98438\n",
      "step: 690 / loss: 0.097452 / acc: 0.96094\n",
      "step: 700 / loss: 0.092674 / acc: 0.95312\n",
      "step: 710 / loss: 0.117411 / acc: 0.96875\n",
      "step: 720 / loss: 0.169755 / acc: 0.93750\n",
      "step: 730 / loss: 0.146957 / acc: 0.96094\n",
      "step: 740 / loss: 0.103949 / acc: 0.96875\n",
      "step: 750 / loss: 0.095787 / acc: 0.96094\n",
      "step: 760 / loss: 0.156954 / acc: 0.95312\n",
      "step: 770 / loss: 0.037971 / acc: 1.00000\n",
      "step: 780 / loss: 0.121443 / acc: 0.94531\n",
      "Test Accuracy: 0.984375\n"
     ]
    }
   ],
   "source": [
    "batch_size = 128\n",
    "n_training_iters = 100000\n",
    "with tf.Session() as sess:\n",
    "    sess.run(tf.global_variables_initializer())\n",
    "    step = 1\n",
    "    # Keep training until reach max iterations\n",
    "    while step * batch_size < n_training_iters:\n",
    "        batch_x, batch_y = mnist.train.next_batch(batch_size)\n",
    "        # next_batchで返されるbatch_xは[batch_size, 784]のテンソルなので、batch_size×28×28に変換します。\n",
    "        batch_x = batch_x.reshape((batch_size, 28, 28))\n",
    "        sess.run(optimizer, feed_dict={x: batch_x, y: batch_y})\n",
    "        if step % 10 == 0:\n",
    "            acc = sess.run(accuracy, feed_dict={x: batch_x, y: batch_y})\n",
    "            loss = sess.run(cost, feed_dict={x: batch_x, y: batch_y})\n",
    "            print('step: {} / loss: {:.6f} / acc: {:.5f}'.format(step, loss, acc))\n",
    "        step += 1\n",
    "\n",
    "    # テスト\n",
    "    test_len = 128\n",
    "    test_data = mnist.test.images[:test_len].reshape((-1, 28, 28))\n",
    "    test_label = mnist.test.labels[:test_len]\n",
    "    test_acc = sess.run(accuracy, feed_dict={x: test_data, y: test_label})\n",
    "    print(\"Test Accuracy: {}\".format(test_acc))"
   ]
  },
  {
   "cell_type": "code",
   "execution_count": null,
   "metadata": {},
   "outputs": [],
   "source": []
  }
 ],
 "metadata": {
  "kernelspec": {
   "display_name": "Python 3",
   "language": "python",
   "name": "python3"
  },
  "language_info": {
   "codemirror_mode": {
    "name": "ipython",
    "version": 3
   },
   "file_extension": ".py",
   "mimetype": "text/x-python",
   "name": "python",
   "nbconvert_exporter": "python",
   "pygments_lexer": "ipython3",
   "version": "3.7.1"
  }
 },
 "nbformat": 4,
 "nbformat_minor": 2
}
